{
 "cells": [
  {
   "cell_type": "code",
   "execution_count": 1,
   "metadata": {},
   "outputs": [
    {
     "name": "stdout",
     "output_type": "stream",
     "text": [
      "Load train data, images rows: 60000, label rows: 60000\n",
      "Load t10k data, images rows: 10000, label rows: 10000\n"
     ]
    }
   ],
   "source": [
    "import numpy as np\n",
    "import os\n",
    "import struct\n",
    "\n",
    "\n",
    "def load_mnist(path='dataset', kind='train'):\n",
    "    \"\"\"\n",
    "    A helper function to load the MNIST dataset.\n",
    "    :param path:\n",
    "    :param kind:\n",
    "    :return: images, labels\n",
    "    \"\"\"\n",
    "    path = os.path.join(os.getcwd(), path)\n",
    "    labels_path = os.path.join(path, '%s-labels.idx1-ubyte' % kind)\n",
    "    images_path = os.path.join(path, '%s-images.idx3-ubyte' % kind)\n",
    "    with open(labels_path, 'rb') as lbpath:\n",
    "        magic, n_labels = struct.unpack('>II', lbpath.read(8))\n",
    "        labels = np.fromfile(lbpath, dtype=np.uint8)\n",
    "    with open(images_path, 'rb') as imgpath:\n",
    "        magic, n_images, rows, columns = struct.unpack('>IIII', imgpath.read(16))\n",
    "        images = np.fromfile(imgpath, dtype=np.uint8).reshape(n_images, rows * columns)\n",
    "    print('Load %s data, images rows: %d, label rows: %d' % (kind, n_images, n_labels))\n",
    "    return images, labels\n",
    "\n",
    "\n",
    "x_train, y_train = load_mnist(kind='train')\n",
    "x_test, y_test = load_mnist(kind='t10k')\n"
   ]
  },
  {
   "cell_type": "code",
   "execution_count": 3,
   "metadata": {},
   "outputs": [
    {
     "data": {
      "image/png": "[encoded data removed]",
      "text/plain": [
       "<matplotlib.figure.Figure at 0x1f43a9c07b8>"
      ]
     },
     "metadata": {},
     "output_type": "display_data"
    }
   ],
   "source": [
    "import matplotlib.pyplot as plt\n",
    "\n",
    "fig, ax = plt.subplots(nrows=2, ncols=5, sharex=True, sharey=True)\n",
    "ax = ax.flatten()\n",
    "for i in range(10):\n",
    "    img = x_train[y_train == i][0].reshape(28, 28)\n",
    "    ax[i].imshow(img, cmap='Greys')\n",
    "ax[0].set_xticks([])\n",
    "ax[0].set_yticks([])\n",
    "plt.tight_layout()\n",
    "plt.show()\n"
   ]
  },
  {
   "cell_type": "code",
   "execution_count": 4,
   "metadata": {},
   "outputs": [],
   "source": [
    "mean_val = np.mean(x_train, axis=0)\n",
    "std_val = np.std(x_train)\n",
    "x_train_centered = (x_train - mean_val) / std_val\n",
    "x_test_centered = (x_test - mean_val) / std_val\n",
    "del x_train, x_test\n"
   ]
  },
  {
   "cell_type": "code",
   "execution_count": 5,
   "metadata": {},
   "outputs": [],
   "source": [
    "def batch_generator(x, y, batch_size=100):\n",
    "    for i in range(0, x.shape[0], batch_size):\n",
    "        yield (x[i:i + batch_size, :], y[i:i + batch_size])\n"
   ]
  },
  {
   "cell_type": "code",
   "execution_count": 24,
   "metadata": {},
   "outputs": [],
   "source": [
    "import tensorflow as tf\n",
    "\n",
    "\n",
    "class Model(object):\n",
    "    def __init__(self, batch_size=100, epochs=20,\n",
    "                 learning_rate=0.001, random_seed=None):\n",
    "        self.batch_size = batch_size\n",
    "        self.epochs = epochs\n",
    "        self.learning_rate = learning_rate\n",
    "        self.random_seed = random_seed\n",
    "        np.random.seed(random_seed)\n",
    "        g = tf.Graph()\n",
    "        with g.as_default():\n",
    "            tf.set_random_seed(random_seed)\n",
    "            self.build()\n",
    "            self.init_op = tf.global_variables_initializer()\n",
    "            self.saver = tf.train.Saver()\n",
    "        self.sess = tf.Session(graph=g)\n",
    "        self.sess.run(self.init_op)\n",
    "\n",
    "    def build(self):\n",
    "        tf_x = tf.placeholder(dtype=tf.float64, shape=[None, 28 * 28], name='tf_x')\n",
    "        tf_y = tf.placeholder(dtype=tf.int64, shape=[None], name='tf_y')\n",
    "        print(tf_x)\n",
    "        print(tf_y)\n",
    "        y_onehot = tf.one_hot(indices=tf_y, depth=10)\n",
    "        # 1st layer: dense\n",
    "        h1 = tf.layers.dense(inputs=tf_x, units=300, activation=tf.nn.relu, name='h1')\n",
    "        print(h1)\n",
    "        # 2nd layer: dense\n",
    "        h2 = tf.layers.dense(inputs=h1, units=100, activation=tf.nn.relu, name='h2')\n",
    "        print(h2)\n",
    "        # output layer\n",
    "        logits = tf.layers.dense(inputs=h2, units=10, activation=None, name='logits')\n",
    "        print(logits)\n",
    "        # prediction\n",
    "        prediction_labels = tf.argmax(logits, axis=1, name='prediction_labels')\n",
    "        print(prediction_labels)\n",
    "        # accuracy\n",
    "        correct = tf.equal(prediction_labels, tf_y)\n",
    "        accuracy = tf.reduce_mean(tf.cast(correct, tf.float32), name='accuracy')\n",
    "        # loss function\n",
    "        loss = tf.losses.softmax_cross_entropy(\n",
    "            onehot_labels=y_onehot, logits=logits)\n",
    "        print(loss)\n",
    "        # optimizer\n",
    "        optimizer = tf.train.AdamOptimizer(learning_rate=self.learning_rate)\n",
    "        train_op = optimizer.minimize(loss=loss, name='train_op')\n",
    "\n",
    "    def train(self, training_set, validation_set=None):\n",
    "        x_data = np.array(training_set[0])\n",
    "        y_data = np.array(training_set[1])\n",
    "        for epoch in range(1, self.epochs + 1):\n",
    "            batch = batch_generator(x_data, y_data, batch_size=self.batch_size)\n",
    "            for _, (x, y) in enumerate(batch):\n",
    "                feed_dict = {'tf_x:0': x, 'tf_y:0': y}\n",
    "                self.sess.run('train_op', feed_dict=feed_dict)\n",
    "            feed_dict = {'tf_x:0': x_data, 'tf_y:0': y_data}\n",
    "            training_accuracy = self.sess.run('accuracy:0', feed_dict=feed_dict)\n",
    "            print(\"Epoch: %2d training accuracy: %6.2f\" % (epoch, (100 * training_accuracy)), end=' ')\n",
    "            if validation_set is not None:\n",
    "                x_data = np.array(validation_set[0])\n",
    "                y_data = np.array(validation_set[1])\n",
    "                feed_dict = {'tf_x:0': x_data, 'tf_y:0': y_data}\n",
    "                validation_accuracy = self.sess.run('accuracy:0', feed_dict=feed_dict)\n",
    "                print(\"validation accuracy: %6.2f\" % (100 * validation_accuracy))\n",
    "\n",
    "    def predict(self, x):\n",
    "        x = np.array(x)\n",
    "        feed_dict = {'tf_x:0': x}\n",
    "        predict_labels = self.sess.run('prediction_labels:0', feed_dict=feed_dict)\n",
    "        return predict_labels\n",
    "\n",
    "    def save(self, epoch, path='./model/fc/'):\n",
    "        if not os.path.isdir(path):\n",
    "            os.makedirs(path)\n",
    "        self.saver.save(self.sess, os.path.join(path, 'model.ckpt'), global_step=epoch)\n",
    "        print('Model saved in %s' % path)\n"
   ]
  },
  {
   "cell_type": "code",
   "execution_count": 25,
   "metadata": {},
   "outputs": [
    {
     "name": "stdout",
     "output_type": "stream",
     "text": [
      "Tensor(\"tf_x:0\", shape=(?, 784), dtype=float64)\n",
      "Tensor(\"tf_y:0\", shape=(?,), dtype=int64)\n",
      "Tensor(\"h1/Relu:0\", shape=(?, 300), dtype=float64)\n",
      "Tensor(\"h2/Relu:0\", shape=(?, 100), dtype=float64)\n",
      "Tensor(\"logits/BiasAdd:0\", shape=(?, 10), dtype=float64)\n",
      "Tensor(\"prediction_labels:0\", shape=(?,), dtype=int64)\n",
      "Tensor(\"softmax_cross_entropy_loss/Cast_1:0\", shape=(), dtype=float64)\n"
     ]
    }
   ],
   "source": [
    "model = Model(random_seed=123)"
   ]
  },
  {
   "cell_type": "code",
   "execution_count": 26,
   "metadata": {},
   "outputs": [
    {
     "name": "stdout",
     "output_type": "stream",
     "text": [
      "Epoch:  1 training accuracy:  96.95 validation accuracy:  96.01\n",
      "Epoch:  2 training accuracy:  98.19 validation accuracy:  98.19\n",
      "Epoch:  3 training accuracy:  99.34 validation accuracy:  99.34\n",
      "Epoch:  4 training accuracy:  99.78 validation accuracy:  99.78\n",
      "Epoch:  5 training accuracy:  99.96 validation accuracy:  99.96\n",
      "Epoch:  6 training accuracy:  99.98 validation accuracy:  99.98\n",
      "Epoch:  7 training accuracy: 100.00 validation accuracy: 100.00\n",
      "Epoch:  8 training accuracy: 100.00 validation accuracy: 100.00\n",
      "Epoch:  9 training accuracy: 100.00 validation accuracy: 100.00\n",
      "Epoch: 10 training accuracy: 100.00 validation accuracy: 100.00\n",
      "Epoch: 11 training accuracy: 100.00 validation accuracy: 100.00\n",
      "Epoch: 12 training accuracy: 100.00 validation accuracy: 100.00\n",
      "Epoch: 13 training accuracy: 100.00 validation accuracy: 100.00\n",
      "Epoch: 14 training accuracy: 100.00 validation accuracy: 100.00\n",
      "Epoch: 15 training accuracy: 100.00 validation accuracy: 100.00\n",
      "Epoch: 16 training accuracy: 100.00 validation accuracy: 100.00\n",
      "Epoch: 17 training accuracy: 100.00 validation accuracy: 100.00\n",
      "Epoch: 18 training accuracy: 100.00 validation accuracy: 100.00\n",
      "Epoch: 19 training accuracy: 100.00 validation accuracy: 100.00\n",
      "Epoch: 20 training accuracy: 100.00 validation accuracy: 100.00\n"
     ]
    }
   ],
   "source": [
    "model.train(training_set=(x_train_centered, y_train), validation_set=(x_test_centered, y_test))"
   ]
  },
  {
   "cell_type": "code",
   "execution_count": 28,
   "metadata": {},
   "outputs": [
    {
     "name": "stdout",
     "output_type": "stream",
     "text": [
      "Model saved in ./model/fc/\n"
     ]
    }
   ],
   "source": [
    "model.save(epoch=model.epochs)"
   ]
  }
 ],
 "metadata": {
  "kernelspec": {
   "display_name": "Python 3",
   "language": "python",
   "name": "python3"
  },
  "language_info": {
   "codemirror_mode": {
    "name": "ipython",
    "version": 3
   },
   "file_extension": ".py",
   "mimetype": "text/x-python",
   "name": "python",
   "nbconvert_exporter": "python",
   "pygments_lexer": "ipython3",
   "version": "3.6.4"
  }
 },
 "nbformat": 4,
 "nbformat_minor": 1
}
